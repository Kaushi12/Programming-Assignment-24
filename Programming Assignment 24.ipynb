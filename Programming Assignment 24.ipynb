{
 "cells": [
  {
   "cell_type": "code",
   "execution_count": 11,
   "id": "cd71f5bb",
   "metadata": {},
   "outputs": [],
   "source": [
    "#Ques1\n",
    "def amplify(num):\n",
    "    l=[]\n",
    "    for i in range(1,num+1):\n",
    "        if i%4==0:\n",
    "            l.append(i*10)\n",
    "        else:\n",
    "            l.append(i)\n",
    "    return l"
   ]
  },
  {
   "cell_type": "code",
   "execution_count": 12,
   "id": "78d5c3b9",
   "metadata": {},
   "outputs": [
    {
     "data": {
      "text/plain": [
       "[1, 2, 3, 40]"
      ]
     },
     "execution_count": 12,
     "metadata": {},
     "output_type": "execute_result"
    }
   ],
   "source": [
    "amplify(4)"
   ]
  },
  {
   "cell_type": "code",
   "execution_count": 13,
   "id": "0812b2ca",
   "metadata": {},
   "outputs": [],
   "source": [
    "#Ques2\n",
    "def unique(l1):\n",
    "    for i in l1:\n",
    "        if l1.count(i)==1:\n",
    "            return i"
   ]
  },
  {
   "cell_type": "code",
   "execution_count": 14,
   "id": "d5208c30",
   "metadata": {},
   "outputs": [
    {
     "data": {
      "text/plain": [
       "0"
      ]
     },
     "execution_count": 14,
     "metadata": {},
     "output_type": "execute_result"
    }
   ],
   "source": [
    "unique([0,1,1,1,1,1,1])"
   ]
  },
  {
   "cell_type": "code",
   "execution_count": 21,
   "id": "7daa9df8",
   "metadata": {},
   "outputs": [],
   "source": [
    "#Ques3\n",
    "class Circle:\n",
    "    def __init__(self,radius):\n",
    "        self.radius=radius\n",
    "    def getArea(self):\n",
    "        area=(22/7)*self.radius*self.radius\n",
    "        print(area)\n",
    "    def getPerimeter(self):\n",
    "        perimeter=2*(22/7)*self.radius\n",
    "        print(perimeter)\n",
    "    "
   ]
  },
  {
   "cell_type": "code",
   "execution_count": 22,
   "id": "cd9e583e",
   "metadata": {},
   "outputs": [
    {
     "name": "stdout",
     "output_type": "stream",
     "text": [
      "380.2857142857143\n"
     ]
    }
   ],
   "source": [
    "circy=Circle(11)\n",
    "circy.getArea()"
   ]
  },
  {
   "cell_type": "code",
   "execution_count": 23,
   "id": "21d4bf11",
   "metadata": {},
   "outputs": [],
   "source": [
    "#Ques4\n",
    "def sort_by_length(l3):\n",
    "    l3.sort()\n",
    "    return l3"
   ]
  },
  {
   "cell_type": "code",
   "execution_count": 24,
   "id": "e3f9fd18",
   "metadata": {},
   "outputs": [
    {
     "data": {
      "text/plain": [
       "['Apple', 'Google', 'Microsoft']"
      ]
     },
     "execution_count": 24,
     "metadata": {},
     "output_type": "execute_result"
    }
   ],
   "source": [
    "sort_by_length([\"Google\",\"Apple\",\"Microsoft\"])"
   ]
  },
  {
   "cell_type": "code",
   "execution_count": 31,
   "id": "bca0924d",
   "metadata": {},
   "outputs": [],
   "source": [
    "#Ques5\n",
    "def is_triplet(a,b,c):\n",
    "    x=max(a,b,c)\n",
    "    if x==a:\n",
    "        if x*x==b*b+c*c:\n",
    "            return True\n",
    "        else:\n",
    "            return False\n",
    "    elif x==b:\n",
    "        if x*x==a*a+c*c:\n",
    "            return True\n",
    "        else:\n",
    "            return False\n",
    "    else:\n",
    "        if x*x==a*a+b*b:\n",
    "            return True\n",
    "        else:\n",
    "            return False\n",
    "        "
   ]
  },
  {
   "cell_type": "code",
   "execution_count": 33,
   "id": "6416dc8a",
   "metadata": {},
   "outputs": [
    {
     "data": {
      "text/plain": [
       "True"
      ]
     },
     "execution_count": 33,
     "metadata": {},
     "output_type": "execute_result"
    }
   ],
   "source": [
    "is_triplet(3,4,5)"
   ]
  },
  {
   "cell_type": "code",
   "execution_count": null,
   "id": "5e14bd91",
   "metadata": {},
   "outputs": [],
   "source": []
  }
 ],
 "metadata": {
  "kernelspec": {
   "display_name": "Python 3",
   "language": "python",
   "name": "python3"
  },
  "language_info": {
   "codemirror_mode": {
    "name": "ipython",
    "version": 3
   },
   "file_extension": ".py",
   "mimetype": "text/x-python",
   "name": "python",
   "nbconvert_exporter": "python",
   "pygments_lexer": "ipython3",
   "version": "3.8.8"
  }
 },
 "nbformat": 4,
 "nbformat_minor": 5
}
